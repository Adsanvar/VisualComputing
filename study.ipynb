{
 "cells": [
  {
   "cell_type": "code",
   "execution_count": 19,
   "source": [
    "import cv2\n",
    "import numpy as np\n",
    "from matplotlib.widgets import Slider\n",
    "import matplotlib.pyplot as plt\n",
    "\n",
    "fig = plt.figure();\n",
    "ax = fig.add_subplot(111);\n",
    "fig.subplots_adjust(bottom=0.25);\n",
    "threshold1 = 100;\n",
    "threshold2 = 100;\n",
    "\n",
    "#img = cv2.imread(\"house_export.png\",0)\n",
    "# img = cv2.imread(\"images/simple_original.png\")\n",
    "img = cv2.imread(\"images/3d_house.png\")\n",
    "#main.append(file)\n",
    "#Kmeans image segmentation\n",
    "vectorized = img.reshape((-1, 3))\n",
    "vectorized = np.float32(vectorized)\n",
    "criteria = (cv2.TERM_CRITERIA_EPS + cv2.TERM_CRITERIA_MAX_ITER, 10, 1.0)\n",
    "K = 4\n",
    "attempts = 11\n",
    "img_1 = cv2.cvtColor(img, cv2.COLOR_BGR2RGB)\n",
    "ret, label, center = cv2.kmeans(vectorized, K, None, criteria, attempts, cv2.KMEANS_PP_CENTERS)\n",
    "center = np.uint8(center)\n",
    "res = center[label.flatten()]\n",
    "#final image\n",
    "result_image = res.reshape((img_1.shape))\n",
    "\n",
    "canny = cv2.Canny(img,threshold1,threshold2)\n",
    "\n",
    "im1 = ax.imshow(canny,'gray')\n",
    "\n",
    "axcolor = 'lightgoldenrodyellow'\n",
    "axmin = fig.add_axes([0.25, 0.1, 0.65, 0.03])\n",
    "axmax  = fig.add_axes([0.25, 0.15, 0.65, 0.03])\n",
    "\n",
    "smin = Slider(axmin, 'Min', 0, 1000, valinit=threshold1)\n",
    "smax = Slider(axmax, 'Max', 0, 1000, valinit=threshold2)\n",
    "\n",
    "def update(val):\n",
    "    canny = cv2.Canny(img,smin.val,smax.val)\n",
    "    im1 = ax.imshow(canny,'gray')\n",
    "    fig.canvas.draw()\n",
    "\n",
    "smin.on_changed(update)\n",
    "smax.on_changed(update)\n",
    "\n",
    "plt.show()"
   ],
   "outputs": [
    {
     "output_type": "display_data",
     "data": {
      "image/png": "[encoded data removed]",
      "text/plain": [
       "<Figure size 432x288 with 3 Axes>"
      ]
     },
     "metadata": {
      "needs_background": "light"
     }
    }
   ],
   "metadata": {}
  },
  {
   "cell_type": "code",
   "execution_count": 7,
   "source": [],
   "outputs": [],
   "metadata": {}
  }
 ],
 "metadata": {
  "orig_nbformat": 4,
  "language_info": {
   "name": "python",
   "version": "3.7.5",
   "mimetype": "text/x-python",
   "codemirror_mode": {
    "name": "ipython",
    "version": 3
   },
   "pygments_lexer": "ipython3",
   "nbconvert_exporter": "python",
   "file_extension": ".py"
  },
  "kernelspec": {
   "name": "python3",
   "display_name": "Python 3.7.5 64-bit ('base': conda)"
  },
  "interpreter": {
   "hash": "d91fc86da44e368d1916bc605d262bad0ee21797962582c74ca518cb7cf80a93"
  }
 },
 "nbformat": 4,
 "nbformat_minor": 2
}